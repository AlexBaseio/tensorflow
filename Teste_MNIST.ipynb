{
 "cells": [
  {
   "cell_type": "markdown",
   "metadata": {},
   "source": [
    "Explanação básica do exemplo apresentado no página [MNIST For ML Beginners](https://www.tensorflow.org/get_started/mnist/beginners).\n",
    "\n",
    "Esta é apenas uma descrição livre dos pontos relacioandos na página, não tem o proposito de aprofundar no assunto de \"Machine Learning\".\n",
    "Para mais detalhes é aconcelhavem ler o site original.\n",
    "\n",
    "Para a excusão deste código é importante fazer o download dos arquivos do [MNIST](http://yann.lecun.com/exdb/mnist/) e descompactá-los em **`<PASTA DO NOTEBOOK>/MNIST_data`.**"
   ]
  },
  {
   "cell_type": "code",
   "execution_count": null,
   "metadata": {
    "collapsed": true
   },
   "outputs": [],
   "source": [
    "import numpy as np\n",
    "from matplotlib import pyplot as plt"
   ]
  },
  {
   "cell_type": "code",
   "execution_count": null,
   "metadata": {
    "collapsed": true
   },
   "outputs": [],
   "source": [
    "%matplotlib inline"
   ]
  },
  {
   "cell_type": "markdown",
   "metadata": {},
   "source": [
    "Faz a leitura do arquivo contendo as imagens de Treino"
   ]
  },
  {
   "cell_type": "code",
   "execution_count": null,
   "metadata": {
    "collapsed": true
   },
   "outputs": [],
   "source": [
    "f = open('MNIST_data/train-images.idx3-ubyte', 'rb')    "
   ]
  },
  {
   "cell_type": "markdown",
   "metadata": {},
   "source": [
    "Este tipo é criado para inverter a ordem de interpretação do campo.\n",
    "São lidos quatro bytes (x00 x00 x80 x03), como padrão são interpretados de traz para frente, isto é, (x03 x80 x00 x00), resultando no número 50855936, mas é necessário que esta ordem seja invertida para gerar o resultado esperado, então é criado um novo tipo de dado que não faz a inversão quando da interpretação. Resultando no número 2051 que era o esperado."
   ]
  },
  {
   "cell_type": "code",
   "execution_count": null,
   "metadata": {
    "collapsed": true
   },
   "outputs": [],
   "source": [
    "dt = np.dtype(np.uint32).newbyteorder('>')"
   ]
  },
  {
   "cell_type": "code",
   "execution_count": null,
   "metadata": {
    "collapsed": true
   },
   "outputs": [],
   "source": [
    "magic = np.frombuffer(f.read(4), dtype=dt)[0]"
   ]
  },
  {
   "cell_type": "code",
   "execution_count": null,
   "metadata": {
    "collapsed": true
   },
   "outputs": [],
   "source": [
    "if magic != 2051:\n",
    "    raise ValueError('Invalid magic number %d in MNIST image file: %s' % (magic, f.name))"
   ]
  },
  {
   "cell_type": "code",
   "execution_count": null,
   "metadata": {
    "collapsed": true
   },
   "outputs": [],
   "source": [
    "num_images = np.frombuffer(f.read(4), dtype=dt)[0]\n",
    "rows = np.frombuffer(f.read(4), dtype=dt)[0]\n",
    "cols = np.frombuffer(f.read(4), dtype=dt)[0]\n",
    "buf = f.read(rows * cols * num_images)\n",
    "data = np.frombuffer(buf, dtype=np.uint8)\n",
    "train_images = data.reshape(num_images, rows, cols, 1)\n",
    "f.close()"
   ]
  },
  {
   "cell_type": "code",
   "execution_count": null,
   "metadata": {},
   "outputs": [],
   "source": [
    "first_image = train_images[0].copy().reshape((28,28))\n",
    "first_image = first_image.astype(np.uint8)\n",
    "plt.imshow(first_image, cmap='Greys')"
   ]
  },
  {
   "cell_type": "markdown",
   "metadata": {},
   "source": [
    "Faz a leitura do arquivo de rotulos (labels)"
   ]
  },
  {
   "cell_type": "code",
   "execution_count": null,
   "metadata": {},
   "outputs": [],
   "source": [
    "f = open('MNIST_data/train-labels.idx1-ubyte', 'rb')\n",
    "magic = np.frombuffer(f.read(4), dtype=dt)[0]\n",
    "if magic != 2049:\n",
    "  raise ValueError('Invalid magic number %d in MNIST label file: %s' % (magic, f.name))\n",
    "num_items = np.frombuffer(f.read(4), dtype=dt)[0]\n",
    "buf = f.read(num_items)\n",
    "labels = np.frombuffer(buf, dtype=np.uint8)\n",
    "f.close()"
   ]
  },
  {
   "cell_type": "markdown",
   "metadata": {},
   "source": [
    "**Entendendo melhor o conjunto de comando abaixo.**\n",
    "\n",
    "Primerio é atribuido o total de labels.\n",
    "Em seguida é criado uma lista com o total de itens coletados acima vezes 10, isso porque meu conjunto é de 10 classes (números de 0 a 10), isso para depois no \"flat\" ficar um número por \"linha\".\n",
    "É criada uma matriz de zeros que será a base para a saida.\n",
    "Por fim é executado o \"flat\", neste ponto é atribuido 1 a todas as posições indicadas na lista (index_offset + labels). O comando \"Ravel\", não tem uma função, é mais uma segurança."
   ]
  },
  {
   "cell_type": "code",
   "execution_count": null,
   "metadata": {},
   "outputs": [],
   "source": [
    "num_labels = labels.shape[0]\n",
    "index_offset = np.arange(num_labels) * 10\n",
    "labels_one_hot = np.zeros((num_labels, 10))\n",
    "labels_one_hot.flat[index_offset + labels.ravel()] = 1\n",
    "train_labels = labels_one_hot"
   ]
  },
  {
   "cell_type": "markdown",
   "metadata": {},
   "source": [
    "Carregar as imagens de teste"
   ]
  },
  {
   "cell_type": "code",
   "execution_count": null,
   "metadata": {},
   "outputs": [],
   "source": [
    "f = open('MNIST_data/t10k-images.idx3-ubyte', 'rb')   \n",
    "magic = np.frombuffer(f.read(4), dtype=dt)[0]\n",
    "if magic != 2051:\n",
    "    raise ValueError('Invalid magic number %d in MNIST image file: %s' % (magic, f.name))\n",
    "num_images = np.frombuffer(f.read(4), dtype=dt)[0]\n",
    "rows = np.frombuffer(f.read(4), dtype=dt)[0]\n",
    "cols = np.frombuffer(f.read(4), dtype=dt)[0]\n",
    "buf = f.read(rows * cols * num_images)\n",
    "data = np.frombuffer(buf, dtype=np.uint8)\n",
    "test_images = data.reshape(num_images, rows, cols, 1)\n",
    "f.close()    "
   ]
  },
  {
   "cell_type": "code",
   "execution_count": null,
   "metadata": {},
   "outputs": [],
   "source": [
    "first_image = test_images[0].copy().reshape((28,28))\n",
    "first_image = first_image.astype(np.uint8)\n",
    "plt.imshow(first_image, cmap='Greys')"
   ]
  },
  {
   "cell_type": "markdown",
   "metadata": {},
   "source": [
    "Carregar os rotulos (labels) de teste"
   ]
  },
  {
   "cell_type": "code",
   "execution_count": null,
   "metadata": {
    "collapsed": true
   },
   "outputs": [],
   "source": [
    "f = open('MNIST_data/t10k-labels.idx1-ubyte', 'rb')\n",
    "magic = np.frombuffer(f.read(4), dtype=dt)[0]\n",
    "if magic != 2049:\n",
    "  raise ValueError('Invalid magic number %d in MNIST label file: %s' % (magic, f.name))\n",
    "num_items = np.frombuffer(f.read(4), dtype=dt)[0]\n",
    "buf = f.read(num_items)\n",
    "labels = np.frombuffer(buf, dtype=np.uint8)\n",
    "f.close()\n",
    "num_labels = labels.shape[0]\n",
    "index_offset = np.arange(num_labels) * 10\n",
    "labels_one_hot = np.zeros((num_labels, 10))\n",
    "labels_one_hot.flat[index_offset + labels.ravel()] = 1\n",
    "test_labels = labels_one_hot"
   ]
  },
  {
   "cell_type": "code",
   "execution_count": null,
   "metadata": {},
   "outputs": [],
   "source": [
    "test_labels"
   ]
  },
  {
   "cell_type": "code",
   "execution_count": null,
   "metadata": {
    "collapsed": true
   },
   "outputs": [],
   "source": [
    "validation_images = train_images[:5000]\n",
    "validation_labels = train_labels[:5000]\n",
    "train_images = train_images[5000:]\n",
    "train_labels = train_labels[5000:]"
   ]
  },
  {
   "cell_type": "markdown",
   "metadata": {},
   "source": [
    "Abaixo é alterado o formato da matriz de [num_imagens, 28, 28, 1] para [num_imagens, 728], isso para facilidade de trabalho pelo tensorflow.\n",
    "É realizda também uma mudança nos pixel mudando de inteiro para float, onde cada pixel tem o seu valor alterado de uma variação de 0 a 255 para variação de 0 a 1.\n",
    "Isso também por facilidade do tensorflow"
   ]
  },
  {
   "cell_type": "code",
   "execution_count": null,
   "metadata": {},
   "outputs": [],
   "source": [
    "validation_images= validation_images.reshape(validation_images.shape[0], validation_images.shape[1] * validation_images.shape[2])\n",
    "validation_images = validation_images.astype(np.float32)\n",
    "validation_images = np.multiply(validation_images, 1.0 / 255.0)\n",
    "\n",
    "train_images= train_images.reshape(train_images.shape[0], train_images.shape[1] * train_images.shape[2])\n",
    "train_images = train_images.astype(np.float32)\n",
    "train_images = np.multiply(train_images, 1.0 / 255.0)\n",
    "\n",
    "test_images= test_images.reshape(test_images.shape[0], test_images.shape[1] * test_images.shape[2])\n",
    "test_images = test_images.astype(np.float32)\n",
    "test_images = np.multiply(test_images, 1.0 / 255.0)"
   ]
  },
  {
   "cell_type": "markdown",
   "metadata": {},
   "source": [
    "Este é o resultado final das coletas dos arquivos."
   ]
  },
  {
   "cell_type": "code",
   "execution_count": null,
   "metadata": {},
   "outputs": [],
   "source": [
    "print(train_images)\n",
    "print(train_labels)\n",
    "print(test_images)\n",
    "print(test_labels)\n",
    "print(validation_images)\n",
    "print(validation_labels)"
   ]
  },
  {
   "cell_type": "markdown",
   "metadata": {},
   "source": [
    "## Implementação do tensor flow ##"
   ]
  },
  {
   "cell_type": "code",
   "execution_count": null,
   "metadata": {
    "collapsed": true
   },
   "outputs": [],
   "source": [
    "import tensorflow as tf"
   ]
  },
  {
   "cell_type": "markdown",
   "metadata": {},
   "source": [
    "Define o parametro de entrada do modelo, neste ponto eu sei o tamanho da imagem (784), mas não sei quantas imagens serão incluidas."
   ]
  },
  {
   "cell_type": "code",
   "execution_count": null,
   "metadata": {
    "collapsed": true
   },
   "outputs": [],
   "source": [
    "x = tf.placeholder(tf.float32, [None, 784])"
   ]
  },
  {
   "cell_type": "markdown",
   "metadata": {},
   "source": [
    "Variaveis de uso interno do tensorflow, serão utilizdas para calcular a expressão abaixo.\n",
    "\"W\" tem a dimensão 784, 10 porque cada imagem irá gerar um indice de peso evidencia para cada classe, no caso temos 10 classes."
   ]
  },
  {
   "cell_type": "code",
   "execution_count": null,
   "metadata": {
    "collapsed": true
   },
   "outputs": [],
   "source": [
    "W = tf.Variable(tf.zeros([784, 10]))\n",
    "b = tf.Variable(tf.zeros([10]))"
   ]
  },
  {
   "cell_type": "code",
   "execution_count": null,
   "metadata": {
    "collapsed": true
   },
   "outputs": [],
   "source": [
    "y = tf.nn.softmax(tf.matmul(x, W) + b)"
   ]
  },
  {
   "cell_type": "markdown",
   "metadata": {},
   "source": [
    "Parametro para indicar quais são os valores corretos para cada imagem."
   ]
  },
  {
   "cell_type": "code",
   "execution_count": null,
   "metadata": {
    "collapsed": true
   },
   "outputs": [],
   "source": [
    "y_ = tf.placeholder(tf.float32, [None, 10])"
   ]
  },
  {
   "cell_type": "markdown",
   "metadata": {},
   "source": [
    "Função para calculo da precisão do modelo. Ou função de distancia. Isso para gerar o melhor resultado possivel para o calculo."
   ]
  },
  {
   "cell_type": "code",
   "execution_count": null,
   "metadata": {
    "collapsed": true
   },
   "outputs": [],
   "source": [
    "cross_entropy = tf.reduce_mean(-tf.reduce_sum(y_ * tf.log(y), reduction_indices=[1]))\n",
    "train_step = tf.train.GradientDescentOptimizer(0.5).minimize(cross_entropy)"
   ]
  },
  {
   "cell_type": "markdown",
   "metadata": {},
   "source": [
    "Iniciar o treinamento"
   ]
  },
  {
   "cell_type": "code",
   "execution_count": null,
   "metadata": {
    "collapsed": true
   },
   "outputs": [],
   "source": [
    "sess = tf.InteractiveSession()\n",
    "tf.global_variables_initializer().run()"
   ]
  },
  {
   "cell_type": "markdown",
   "metadata": {},
   "source": [
    "O codigo abaixo ajusta as imagens para o treinamento.\n",
    "No primeiro laço é realizado uma permuta misturando as imagens, de forma que a acada analise um novo indice pode ser alcançado.\n",
    "A partir deste ponto é coletado faixas de 100 imagens para analise."
   ]
  },
  {
   "cell_type": "code",
   "execution_count": null,
   "metadata": {},
   "outputs": [],
   "source": [
    "_epochs_completed = 0\n",
    "_index_in_epoch = 0\n",
    "for _ in range(1000):\n",
    "    start = _index_in_epoch\n",
    "    if _epochs_completed == 0 and start == 0:\n",
    "        perm0 = np.arange(55000)\n",
    "        np.random.shuffle(perm0)\n",
    "        images = train_images[perm0]\n",
    "        labels = train_labels[perm0]\n",
    "    # Go to the next epoch\n",
    "    _epochs_completed += 1\n",
    "    print(\"Treinando... passo: {0:3}\".format(_epochs_completed))\n",
    "    if start + 100 > 55000:\n",
    "        # Finished epoch\n",
    "        # Get the rest examples in this epoch\n",
    "        rest_num_examples = 55000 - start\n",
    "        images_rest_part = images[start:55000]\n",
    "        labels_rest_part = labels[start:55000]\n",
    "        # Shuffle the data\n",
    "        perm = np.arange(55000)\n",
    "        np.random.shuffle(perm)\n",
    "        images = train_images[perm]\n",
    "        labels = train_labels[perm]\n",
    "        # Start next epoch\n",
    "        start = 0\n",
    "        _index_in_epoch = 100 - rest_num_examples\n",
    "        end = _index_in_epoch\n",
    "        images_new_part = images[start:end]\n",
    "        labels_new_part = labels[start:end]\n",
    "        batch_xs = np.concatenate((images_rest_part, images_new_part), axis=0)\n",
    "        batch_ys = np.concatenate((labels_rest_part, labels_new_part), axis=0)\n",
    "    else:\n",
    "        _index_in_epoch += 100\n",
    "        end = _index_in_epoch\n",
    "        batch_xs, batch_ys = images[start:end], labels[start:end]\n",
    "    sess.run(train_step, feed_dict={x: batch_xs, y_: batch_ys})\n",
    "print(\"Finalizado\")"
   ]
  },
  {
   "cell_type": "markdown",
   "metadata": {},
   "source": [
    "Verificando o Modelo"
   ]
  },
  {
   "cell_type": "code",
   "execution_count": null,
   "metadata": {
    "collapsed": true
   },
   "outputs": [],
   "source": [
    "correct_prediction = tf.equal(tf.argmax(y,1), tf.argmax(y_,1))\n",
    "accuracy = tf.reduce_mean(tf.cast(correct_prediction, tf.float32))"
   ]
  },
  {
   "cell_type": "code",
   "execution_count": null,
   "metadata": {},
   "outputs": [],
   "source": [
    "print(sess.run(accuracy, feed_dict={x: test_images, y_: test_labels}))"
   ]
  }
 ],
 "metadata": {
  "kernelspec": {
   "display_name": "Tensorflow",
   "language": "python",
   "name": "tensorflow"
  },
  "language_info": {
   "codemirror_mode": {
    "name": "ipython",
    "version": 3
   },
   "file_extension": ".py",
   "mimetype": "text/x-python",
   "name": "python",
   "nbconvert_exporter": "python",
   "pygments_lexer": "ipython3",
   "version": "3.5.4"
  }
 },
 "nbformat": 4,
 "nbformat_minor": 2
}
